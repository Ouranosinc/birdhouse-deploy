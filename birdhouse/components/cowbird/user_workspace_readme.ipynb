{
 "cells": [
  {
   "cell_type": "markdown",
   "id": "6eb979d5-fc6f-456b-9931-6209958f4bae",
   "metadata": {},
   "source": [
    "# README\n",
    "\n",
    "This is your user workspace for the JupyterLab environment.\n",
    "\n",
    "Here is a description of the different directories found in your workspace :\n",
    "\n",
    "## public\n",
    "\n",
    "This directory contains any files that are shared publicly between the users.\n",
    "This contains, for example, the different WPS outputs files that are not specific to any user.\n",
    "Note that files shared here are read-only.\n",
    "\n",
    "## tutorial-notebooks\n",
    "This directory contains different notebooks used to showcase different usages of the birdhouse services and shares\n",
    "step by step instructions of different use cases.\n",
    "These notebooks can be executed but cannot be saved as they are read-only.\n",
    "\n",
    "## writable-workspace\n",
    "This directory contains different subsdirectories that are customized and specialized to the user.\n",
    "Note that this space is generally writable for the user, so he can create his own files in this directory as desired.\n",
    "\n",
    "#### notebooks\n",
    "This subdirectory is made to contain the different notebooks created by the user.\n",
    "\n",
    "#### shapefile_datastore\n",
    "This subdirectory is made to contain different files of the shapefile format for Geoserver. Adding new shapefiles to\n",
    "this directory will also automatically publish the shapefile to the user's Geoserver workspace.\n",
    "\n",
    "#### wps_outputs\n",
    "This read-only directory contains the different WPS outputs user files. Note that this directory might not exist if the\n",
    "user has no user WPS outputs files.\n"
   ]
  },
  {
   "cell_type": "code",
   "execution_count": null,
   "id": "660be619-8137-4ee0-8da0-6181f905540a",
   "metadata": {},
   "outputs": [],
   "source": []
  }
 ],
 "metadata": {
  "kernelspec": {
   "display_name": "Python 3 (ipykernel)",
   "language": "python",
   "name": "python3"
  },
  "language_info": {
   "codemirror_mode": {
    "name": "ipython",
    "version": 3
   },
   "file_extension": ".py",
   "mimetype": "text/x-python",
   "name": "python",
   "nbconvert_exporter": "python",
   "pygments_lexer": "ipython3",
   "version": "3.11.4"
  }
 },
 "nbformat": 4,
 "nbformat_minor": 5
}
