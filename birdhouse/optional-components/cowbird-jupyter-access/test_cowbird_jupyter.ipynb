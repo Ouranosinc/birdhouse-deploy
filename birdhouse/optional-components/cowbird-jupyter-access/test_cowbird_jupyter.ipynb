{
 "cells": [
  {
   "cell_type": "code",
   "execution_count": null,
   "id": "3b4ebec4-c7ef-4ec6-8016-c3360715d1e8",
   "metadata": {},
   "outputs": [],
   "source": [
    "# define some useful variables for following steps\n",
    "import json\n",
    "import os\n",
    "import requests\n",
    "\n",
    "print(\"Setup configuration parameters...\")\n",
    "\n",
    "VERIFY_SSL = True if 'DISABLE_VERIFY_SSL' not in os.environ else False\n",
    "HEADERS = {\"Accept\": \"application/json\", \"Content-Type\": \"application/json\"}\n",
    "\n",
    "PAVICS_HOST = os.getenv(\"PAVICS_HOST\", \"pavics.ouranos.ca\")\n",
    "assert PAVICS_HOST != \"\", \"Invalid PAVICS HOST value.\"\n",
    "\n",
    "JUPYTERHUB_URL = f\"https://{PAVICS_HOST}/jupyterhub\"\n",
    "\n",
    "print(\"  Verify SSL : {}\".format(VERIFY_SSL))\n",
    "print(\"  Will use JupyterHub URL:   [{}]\".format(JUPYTERHUB_URL))"
   ]
  },
  {
   "cell_type": "code",
   "execution_count": null,
   "id": "2a4464e8-5a3c-4849-8ba0-f93affc24191",
   "metadata": {},
   "outputs": [],
   "source": [
    "jupyterhub_session = requests.Session()\n",
    "jupyterhub_session.verify = VERIFY_SSL\n",
    "jupyterhub_session.headers = HEADERS"
   ]
  },
  {
   "cell_type": "code",
   "execution_count": null,
   "id": "00706183-be9a-4eed-a3a6-c63c71ca5ea4",
   "metadata": {},
   "outputs": [],
   "source": [
    "print(jupyterhub_session.get(f\"{JUPYTERHUB_URL}/users\").text)"
   ]
  },
  {
   "cell_type": "code",
   "execution_count": null,
   "id": "512fce46-d055-43de-a2e3-05a0caf4d5c1",
   "metadata": {},
   "outputs": [],
   "source": []
  }
 ],
 "metadata": {
  "kernelspec": {
   "display_name": "Python 3 (ipykernel)",
   "language": "python",
   "name": "python3"
  },
  "language_info": {
   "codemirror_mode": {
    "name": "ipython",
    "version": 3
   },
   "file_extension": ".py",
   "mimetype": "text/x-python",
   "name": "python",
   "nbconvert_exporter": "python",
   "pygments_lexer": "ipython3",
   "version": "3.11.4"
  }
 },
 "nbformat": 4,
 "nbformat_minor": 5
}
